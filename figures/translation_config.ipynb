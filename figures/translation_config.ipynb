{
 "cells": [
  {
   "cell_type": "code",
   "execution_count": 3,
   "id": "0a6b7b18",
   "metadata": {},
   "outputs": [],
   "source": [
    "from sympy import *"
   ]
  },
  {
   "cell_type": "code",
   "execution_count": 4,
   "id": "3916a372",
   "metadata": {},
   "outputs": [],
   "source": [
    "# do: object distance\n",
    "# di: image distance\n",
    "theta, do, di, S = symbols('theta d_o d_i S', real=True, positive=True)"
   ]
  },
  {
   "cell_type": "code",
   "execution_count": 5,
   "id": "252012a9",
   "metadata": {},
   "outputs": [
    {
     "data": {
      "text/latex": [
       "$\\displaystyle S + d_{i} + d_{o} + \\theta$"
      ],
      "text/plain": [
       "S + d_i + d_o + theta"
      ]
     },
     "execution_count": 5,
     "metadata": {},
     "output_type": "execute_result"
    }
   ],
   "source": [
    "theta + di + S + do"
   ]
  },
  {
   "cell_type": "code",
   "execution_count": 6,
   "id": "c0e1577e",
   "metadata": {},
   "outputs": [
    {
     "data": {
      "text/latex": [
       "$\\displaystyle \\left[\\begin{matrix}1 & 0 & 0\\\\0 & 1 & 0\\\\0 & 0 & 1\\end{matrix}\\right]$"
      ],
      "text/plain": [
       "Matrix([\n",
       "[1, 0, 0],\n",
       "[0, 1, 0],\n",
       "[0, 0, 1]])"
      ]
     },
     "execution_count": 6,
     "metadata": {},
     "output_type": "execute_result"
    }
   ],
   "source": [
    "Rl = Matrix([[1, 0, 0], [0, 1, 0], [0, 0, 1]])\n",
    "Rl # Rotating matrix from world frame to left camera frame"
   ]
  },
  {
   "cell_type": "code",
   "execution_count": 7,
   "id": "8c759f5c",
   "metadata": {},
   "outputs": [
    {
     "data": {
      "text/latex": [
       "$\\displaystyle \\left[\\begin{matrix}1 & 0 & 0\\\\0 & 1 & 0\\\\0 & 0 & 1\\end{matrix}\\right]$"
      ],
      "text/plain": [
       "Matrix([\n",
       "[1, 0, 0],\n",
       "[0, 1, 0],\n",
       "[0, 0, 1]])"
      ]
     },
     "execution_count": 7,
     "metadata": {},
     "output_type": "execute_result"
    }
   ],
   "source": [
    "Rr = Rl\n",
    "Rr # Rotating matrix from world frame to right camera frame"
   ]
  },
  {
   "cell_type": "code",
   "execution_count": 8,
   "id": "5609749d",
   "metadata": {},
   "outputs": [
    {
     "data": {
      "text/latex": [
       "$\\displaystyle \\left[\\begin{matrix}\\frac{S}{2}\\\\0\\\\- d_{o}\\end{matrix}\\right]$"
      ],
      "text/plain": [
       "Matrix([\n",
       "[ S/2],\n",
       "[   0],\n",
       "[-d_o]])"
      ]
     },
     "execution_count": 8,
     "metadata": {},
     "output_type": "execute_result"
    }
   ],
   "source": [
    "Tl = Matrix([S/2, 0, -do])\n",
    "Tl # Translating matrix from world frame to left camera frame"
   ]
  },
  {
   "cell_type": "code",
   "execution_count": 9,
   "id": "42d615bf",
   "metadata": {},
   "outputs": [
    {
     "data": {
      "text/latex": [
       "$\\displaystyle \\left[\\begin{matrix}- \\frac{S}{2}\\\\0\\\\- d_{o}\\end{matrix}\\right]$"
      ],
      "text/plain": [
       "Matrix([\n",
       "[-S/2],\n",
       "[   0],\n",
       "[-d_o]])"
      ]
     },
     "execution_count": 9,
     "metadata": {},
     "output_type": "execute_result"
    }
   ],
   "source": [
    "Tr = Matrix([-S/2, 0, -do])\n",
    "Tr # Translating matrix from world frame to right camera frame"
   ]
  },
  {
   "cell_type": "code",
   "execution_count": 10,
   "id": "cddb6ef8",
   "metadata": {},
   "outputs": [],
   "source": [
    "x, y, z, dx, dy, dz = symbols('x y z Delta_x Delta_y Delta_z', real=True)\n",
    "\n",
    "Xw1 = Matrix([x, y, z]) # World coordinates of the point\n",
    "Xw2 = Matrix([x + dx, y + dy, z + dz]) # World coordinates of the point\n",
    "flipZ = Matrix([[1, 0, 0], [0, 1, 0], [0, 0, -1]]) # Apply reflection matrix to flip Z direction between world frame and camera frame"
   ]
  },
  {
   "cell_type": "code",
   "execution_count": 11,
   "id": "d92bacbc",
   "metadata": {},
   "outputs": [],
   "source": [
    "extrinsicl = Rl.row_join(Tl) # Extrinsic matrix from world frame to left camera frame\n",
    "extrinsicr = Rr.row_join(Tr) # Extrinsic matrix from world frame to right camera frame\n",
    "Pr = flipZ * extrinsicr # Projection matrix from world frame to right camera frame\n",
    "Pl = flipZ * extrinsicl # Projection matrix from world frame to left camera frame"
   ]
  },
  {
   "cell_type": "code",
   "execution_count": 12,
   "id": "06eef0af",
   "metadata": {},
   "outputs": [],
   "source": [
    "Xl1 = Pl * Xw1.row_insert(3, Matrix([1])) # Point 1 in left camera frame\n",
    "Xl2 = Pl * Xw2.row_insert(3, Matrix([1])) # Point 2 in left camera frame\n",
    "Xr1 = Pr * Xw1.row_insert(3, Matrix([1])) # Point 1 in right camera frame\n",
    "Xr2 = Pr * Xw2.row_insert(3, Matrix([1])) # Point 2 in right camera frame"
   ]
  },
  {
   "cell_type": "code",
   "execution_count": null,
   "id": "596466c0",
   "metadata": {},
   "outputs": [
    {
     "data": {
      "text/latex": [
       "$\\displaystyle \\left[\\begin{matrix}\\frac{d_{i} x}{d_{o}}\\\\\\frac{d_{i} y}{d_{o}}\\\\d_{i}\\end{matrix}\\right]$"
      ],
      "text/plain": [
       "Matrix([\n",
       "[d_i*x/d_o],\n",
       "[d_i*y/d_o],\n",
       "[      d_i]])"
      ]
     },
     "execution_count": 41,
     "metadata": {},
     "output_type": "execute_result"
    }
   ],
   "source": [
    "Xil1 = Xl1 / Xl1[2] * di # Point 1 in left image frame\n",
    "Xil1.subs({S: 0, z: 0})"
   ]
  },
  {
   "cell_type": "code",
   "execution_count": 43,
   "id": "8f6e3d0f",
   "metadata": {},
   "outputs": [
    {
     "data": {
      "text/latex": [
       "$\\displaystyle \\left[\\begin{matrix}\\frac{d_{i} \\left(\\Delta_{x} + x\\right)}{- \\Delta_{z} + d_{o}}\\\\\\frac{d_{i} \\left(\\Delta_{y} + y\\right)}{- \\Delta_{z} + d_{o}}\\\\d_{i}\\end{matrix}\\right]$"
      ],
      "text/plain": [
       "Matrix([\n",
       "[d_i*(Delta_x + x)/(-Delta_z + d_o)],\n",
       "[d_i*(Delta_y + y)/(-Delta_z + d_o)],\n",
       "[                               d_i]])"
      ]
     },
     "execution_count": 43,
     "metadata": {},
     "output_type": "execute_result"
    }
   ],
   "source": [
    "Xil2 = Xl2 / Xl2[2] * di # Point 2 in left image frame\n",
    "Xil2.subs({S: 0, z: 0})"
   ]
  },
  {
   "cell_type": "code",
   "execution_count": 48,
   "id": "d92aee7b",
   "metadata": {},
   "outputs": [
    {
     "data": {
      "text/latex": [
       "$\\displaystyle \\frac{d_{i} \\left(\\Delta_{x} d_{o} + \\Delta_{z} x\\right)}{d_{o} \\left(\\Delta_{z} - d_{o}\\right)}$"
      ],
      "text/plain": [
       "d_i*(Delta_x*d_o + Delta_z*x)/(d_o*(Delta_z - d_o))"
      ]
     },
     "execution_count": 48,
     "metadata": {},
     "output_type": "execute_result"
    }
   ],
   "source": [
    "dXil = Xil1 - Xil2 # Displacement vector in left image frame\n",
    "simplify(dXil.subs({S: 0, z: 0})[0])"
   ]
  },
  {
   "cell_type": "code",
   "execution_count": 13,
   "id": "6cd2b2a5",
   "metadata": {},
   "outputs": [],
   "source": [
    "Xol1  = do/Xl1[2] * Xl1 # Point 1 in left image frame object plane\n",
    "Xol2  = do/Xl2[2] * Xl2 # Point 2 in left image frame object plane\n",
    "Xor1  = do/Xr1[2] * Xr1 # Point 1 in right image frame object plane\n",
    "Xor2  = do/Xr2[2] * Xr2 # Point 2 in right image frame object plane"
   ]
  },
  {
   "cell_type": "code",
   "execution_count": 14,
   "id": "a90fdb08",
   "metadata": {},
   "outputs": [
    {
     "data": {
      "text/latex": [
       "$\\displaystyle \\left[\\begin{matrix}\\frac{d_{o} \\left(\\frac{S}{2} + x\\right)}{d_{o} - z}\\\\\\frac{d_{o} y}{d_{o} - z}\\\\d_{o}\\end{matrix}\\right]$"
      ],
      "text/plain": [
       "Matrix([\n",
       "[d_o*(S/2 + x)/(d_o - z)],\n",
       "[        d_o*y/(d_o - z)],\n",
       "[                    d_o]])"
      ]
     },
     "execution_count": 14,
     "metadata": {},
     "output_type": "execute_result"
    }
   ],
   "source": [
    "Xol1"
   ]
  },
  {
   "cell_type": "code",
   "execution_count": 15,
   "id": "f013cde4",
   "metadata": {},
   "outputs": [
    {
     "data": {
      "text/latex": [
       "$\\displaystyle \\left[\\begin{matrix}\\frac{d_{o} \\left(\\Delta_{x} + \\frac{S}{2} + x\\right)}{- \\Delta_{z} + d_{o} - z}\\\\\\frac{d_{o} \\left(\\Delta_{y} + y\\right)}{- \\Delta_{z} + d_{o} - z}\\\\d_{o}\\end{matrix}\\right]$"
      ],
      "text/plain": [
       "Matrix([\n",
       "[d_o*(Delta_x + S/2 + x)/(-Delta_z + d_o - z)],\n",
       "[      d_o*(Delta_y + y)/(-Delta_z + d_o - z)],\n",
       "[                                         d_o]])"
      ]
     },
     "execution_count": 15,
     "metadata": {},
     "output_type": "execute_result"
    }
   ],
   "source": [
    "Xol2"
   ]
  },
  {
   "cell_type": "code",
   "execution_count": 16,
   "id": "cddd1f1b",
   "metadata": {},
   "outputs": [
    {
     "data": {
      "text/latex": [
       "$\\displaystyle \\left[\\begin{matrix}\\frac{d_{o} \\left(- \\frac{S}{2} + x\\right)}{d_{o} - z}\\\\\\frac{d_{o} y}{d_{o} - z}\\\\d_{o}\\end{matrix}\\right]$"
      ],
      "text/plain": [
       "Matrix([\n",
       "[d_o*(-S/2 + x)/(d_o - z)],\n",
       "[         d_o*y/(d_o - z)],\n",
       "[                     d_o]])"
      ]
     },
     "execution_count": 16,
     "metadata": {},
     "output_type": "execute_result"
    }
   ],
   "source": [
    "Xor1"
   ]
  },
  {
   "cell_type": "code",
   "execution_count": 17,
   "id": "dd978b75",
   "metadata": {},
   "outputs": [
    {
     "data": {
      "text/latex": [
       "$\\displaystyle \\left[\\begin{matrix}\\frac{d_{o} \\left(\\Delta_{x} - \\frac{S}{2} + x\\right)}{- \\Delta_{z} + d_{o} - z}\\\\\\frac{d_{o} \\left(\\Delta_{y} + y\\right)}{- \\Delta_{z} + d_{o} - z}\\\\d_{o}\\end{matrix}\\right]$"
      ],
      "text/plain": [
       "Matrix([\n",
       "[d_o*(Delta_x - S/2 + x)/(-Delta_z + d_o - z)],\n",
       "[      d_o*(Delta_y + y)/(-Delta_z + d_o - z)],\n",
       "[                                         d_o]])"
      ]
     },
     "execution_count": 17,
     "metadata": {},
     "output_type": "execute_result"
    }
   ],
   "source": [
    "Xor2"
   ]
  },
  {
   "cell_type": "code",
   "execution_count": 18,
   "id": "6e98593f",
   "metadata": {},
   "outputs": [],
   "source": [
    "dXol = Xol2 - Xol1 # Distance in left image frame object plane\n",
    "dXor = Xor2 - Xor1 # Distance in right image frame object plane"
   ]
  },
  {
   "cell_type": "code",
   "execution_count": 19,
   "id": "78cf4238",
   "metadata": {},
   "outputs": [
    {
     "data": {
      "text/latex": [
       "$\\displaystyle \\left[\\begin{matrix}- \\frac{d_{o} \\left(\\frac{S}{2} + x\\right)}{d_{o} - z} + \\frac{d_{o} \\left(\\Delta_{x} + \\frac{S}{2} + x\\right)}{- \\Delta_{z} + d_{o} - z}\\\\- \\frac{d_{o} y}{d_{o} - z} + \\frac{d_{o} \\left(\\Delta_{y} + y\\right)}{- \\Delta_{z} + d_{o} - z}\\\\0\\end{matrix}\\right]$"
      ],
      "text/plain": [
       "Matrix([\n",
       "[-d_o*(S/2 + x)/(d_o - z) + d_o*(Delta_x + S/2 + x)/(-Delta_z + d_o - z)],\n",
       "[              -d_o*y/(d_o - z) + d_o*(Delta_y + y)/(-Delta_z + d_o - z)],\n",
       "[                                                                      0]])"
      ]
     },
     "execution_count": 19,
     "metadata": {},
     "output_type": "execute_result"
    }
   ],
   "source": [
    "dXol "
   ]
  },
  {
   "cell_type": "code",
   "execution_count": 20,
   "id": "ee863e65",
   "metadata": {},
   "outputs": [
    {
     "data": {
      "text/latex": [
       "$\\displaystyle \\left[\\begin{matrix}- \\frac{d_{o} \\left(- \\frac{S}{2} + x\\right)}{d_{o} - z} + \\frac{d_{o} \\left(\\Delta_{x} - \\frac{S}{2} + x\\right)}{- \\Delta_{z} + d_{o} - z}\\\\- \\frac{d_{o} y}{d_{o} - z} + \\frac{d_{o} \\left(\\Delta_{y} + y\\right)}{- \\Delta_{z} + d_{o} - z}\\\\0\\end{matrix}\\right]$"
      ],
      "text/plain": [
       "Matrix([\n",
       "[-d_o*(-S/2 + x)/(d_o - z) + d_o*(Delta_x - S/2 + x)/(-Delta_z + d_o - z)],\n",
       "[               -d_o*y/(d_o - z) + d_o*(Delta_y + y)/(-Delta_z + d_o - z)],\n",
       "[                                                                       0]])"
      ]
     },
     "execution_count": 20,
     "metadata": {},
     "output_type": "execute_result"
    }
   ],
   "source": [
    "dXor"
   ]
  },
  {
   "cell_type": "code",
   "execution_count": 21,
   "id": "0d426bcd",
   "metadata": {},
   "outputs": [
    {
     "data": {
      "text/plain": [
       "((dx_il1, dx_il2, dx_il3), (dx_ir1, dx_ir2, dx_ir3))"
      ]
     },
     "execution_count": 21,
     "metadata": {},
     "output_type": "execute_result"
    }
   ],
   "source": [
    "n = 3\n",
    "dxil = symbols('dx_il1:%d' % (n+1)) # Distance in left image frame image plane\n",
    "dxir = symbols('dx_ir1:%d' % (n+1)) # Distance in right image frame image plane\n",
    "dxil, dxir"
   ]
  },
  {
   "cell_type": "code",
   "execution_count": 22,
   "id": "7b8cdaec",
   "metadata": {},
   "outputs": [],
   "source": [
    "# Mn = di/do # Camera magnification\n",
    "Mn = symbols('Mn')\n",
    "sol_dx_dz = solve(\n",
    "    (\n",
    "        Eq(dXol[0], dxil[0] / (-Mn)), # 相似三角形法则，像平面和物平面距离比值等于像距和物距的比值，负号是因为翻转成像。\n",
    "        Eq(dXor[0], dxir[0] / (-Mn)),\n",
    "    ),\n",
    "    (dx, dz)\n",
    ")"
   ]
  },
  {
   "cell_type": "code",
   "execution_count": 23,
   "id": "9ef42077",
   "metadata": {},
   "outputs": [
    {
     "data": {
      "text/plain": [
       "{Delta_x: (-S*d_o*dx_il1/2 - S*d_o*dx_ir1/2 + S*dx_il1*z/2 + S*dx_ir1*z/2 + d_o*dx_il1*x - d_o*dx_ir1*x - dx_il1*x*z + dx_ir1*x*z)/(Mn*S*d_o - d_o*dx_il1 + d_o*dx_ir1 + dx_il1*z - dx_ir1*z),\n",
       " Delta_z: (-d_o**2*dx_il1 + d_o**2*dx_ir1 + 2*d_o*dx_il1*z - 2*d_o*dx_ir1*z - dx_il1*z**2 + dx_ir1*z**2)/(Mn*S*d_o - d_o*dx_il1 + d_o*dx_ir1 + dx_il1*z - dx_ir1*z)}"
      ]
     },
     "execution_count": 23,
     "metadata": {},
     "output_type": "execute_result"
    }
   ],
   "source": [
    "sol_dx_dz"
   ]
  },
  {
   "cell_type": "code",
   "execution_count": 24,
   "id": "03cf8c11",
   "metadata": {},
   "outputs": [],
   "source": [
    "sol_dx = sol_dx_dz[dx]\n",
    "sol_dz = sol_dx_dz[dz]"
   ]
  },
  {
   "cell_type": "code",
   "execution_count": 25,
   "id": "95b93c98",
   "metadata": {},
   "outputs": [],
   "source": [
    "sol_dy1 = solve(\n",
    "    (Eq(dXol[1], dxil[1] / (-Mn)),),\n",
    "    dy\n",
    ")\n",
    "\n",
    "sol_dy2 = solve(\n",
    "    (Eq(dXor[1], dxir[1] / (-Mn)),),\n",
    "    dy\n",
    ")\n",
    "\n",
    "sol_dy = (sol_dy1[dy] + sol_dy2[dy]) / 2"
   ]
  },
  {
   "cell_type": "code",
   "execution_count": 26,
   "id": "57fcd030",
   "metadata": {},
   "outputs": [
    {
     "data": {
      "text/latex": [
       "$\\displaystyle \\frac{- \\frac{S dx_{il1}}{2} - \\frac{S dx_{ir1}}{2} + dx_{il1} x - dx_{ir1} x}{Mn S - dx_{il1} + dx_{ir1}}$"
      ],
      "text/plain": [
       "(-S*dx_il1/2 - S*dx_ir1/2 + dx_il1*x - dx_ir1*x)/(Mn*S - dx_il1 + dx_ir1)"
      ]
     },
     "execution_count": 26,
     "metadata": {},
     "output_type": "execute_result"
    }
   ],
   "source": [
    "simplify(sol_dx.subs(z, 0))"
   ]
  },
  {
   "cell_type": "code",
   "execution_count": 27,
   "id": "4f000e81",
   "metadata": {},
   "outputs": [
    {
     "data": {
      "text/latex": [
       "$\\displaystyle \\frac{- 2 \\Delta_{z} Mn y + \\Delta_{z} dx_{il2} + \\Delta_{z} dx_{ir2} - d_{o} dx_{il2} - d_{o} dx_{ir2}}{2 Mn d_{o}}$"
      ],
      "text/plain": [
       "(-2*Delta_z*Mn*y + Delta_z*dx_il2 + Delta_z*dx_ir2 - d_o*dx_il2 - d_o*dx_ir2)/(2*Mn*d_o)"
      ]
     },
     "execution_count": 27,
     "metadata": {},
     "output_type": "execute_result"
    }
   ],
   "source": [
    "simplify(sol_dy.subs(z, 0))"
   ]
  },
  {
   "cell_type": "code",
   "execution_count": 28,
   "id": "51666a2b",
   "metadata": {},
   "outputs": [
    {
     "data": {
      "text/latex": [
       "$\\displaystyle \\frac{d_{o} \\left(- dx_{il1} + dx_{ir1}\\right)}{Mn S - dx_{il1} + dx_{ir1}}$"
      ],
      "text/plain": [
       "d_o*(-dx_il1 + dx_ir1)/(Mn*S - dx_il1 + dx_ir1)"
      ]
     },
     "execution_count": 28,
     "metadata": {},
     "output_type": "execute_result"
    }
   ],
   "source": [
    "simplify(sol_dz.subs(z, 0))"
   ]
  },
  {
   "cell_type": "code",
   "execution_count": 29,
   "id": "1dd94b5c",
   "metadata": {},
   "outputs": [
    {
     "name": "stdout",
     "output_type": "stream",
     "text": [
      "\\left\\{ \\Delta_{x} : \\frac{- \\frac{S d_{o} dx_{il1}}{2} - \\frac{S d_{o} dx_{ir1}}{2} + \\frac{S dx_{il1} z}{2} + \\frac{S dx_{ir1} z}{2} + d_{o} dx_{il1} x - d_{o} dx_{ir1} x - dx_{il1} x z + dx_{ir1} x z}{Mn S d_{o} - d_{o} dx_{il1} + d_{o} dx_{ir1} + dx_{il1} z - dx_{ir1} z}, \\  \\Delta_{z} : \\frac{- d_{o}^{2} dx_{il1} + d_{o}^{2} dx_{ir1} + 2 d_{o} dx_{il1} z - 2 d_{o} dx_{ir1} z - dx_{il1} z^{2} + dx_{ir1} z^{2}}{Mn S d_{o} - d_{o} dx_{il1} + d_{o} dx_{ir1} + dx_{il1} z - dx_{ir1} z}\\right\\}\n",
      "\\frac{\\Delta_{z} Mn d_{o} y - \\Delta_{z} d_{o} dx_{il2} + \\Delta_{z} dx_{il2} z + d_{o}^{2} dx_{il2} - 2 d_{o} dx_{il2} z + dx_{il2} z^{2}}{2 \\left(- Mn d_{o}^{2} + Mn d_{o} z\\right)} + \\frac{\\Delta_{z} Mn d_{o} y - \\Delta_{z} d_{o} dx_{ir2} + \\Delta_{z} dx_{ir2} z + d_{o}^{2} dx_{ir2} - 2 d_{o} dx_{ir2} z + dx_{ir2} z^{2}}{2 \\left(- Mn d_{o}^{2} + Mn d_{o} z\\right)}\n"
     ]
    }
   ],
   "source": [
    "print(latex(sol_dx_dz))\n",
    "print(latex(sol_dy))"
   ]
  },
  {
   "cell_type": "code",
   "execution_count": null,
   "id": "ae5d1b0b",
   "metadata": {},
   "outputs": [],
   "source": []
  },
  {
   "cell_type": "markdown",
   "id": "a7b2f050",
   "metadata": {},
   "source": [
    "$$\n",
    "\\left\\{ \\Delta_{x} : \\frac{- \\frac{S d_{o} dx_{il1}}{2} - \\frac{S d_{o} dx_{ir1}}{2} + \\frac{S dx_{il1} z}{2} + \\frac{S dx_{ir1} z}{2} + d_{o} dx_{il1} x - d_{o} dx_{ir1} x - dx_{il1} x z + dx_{ir1} x z}{Mn S d_{o} - d_{o} dx_{il1} + d_{o} dx_{ir1} + dx_{il1} z - dx_{ir1} z}, \\  \\Delta_{z} : \\frac{- d_{o}^{2} dx_{il1} + d_{o}^{2} dx_{ir1} + 2 d_{o} dx_{il1} z - 2 d_{o} dx_{ir1} z - dx_{il1} z^{2} + dx_{ir1} z^{2}}{Mn S d_{o} - d_{o} dx_{il1} + d_{o} dx_{ir1} + dx_{il1} z - dx_{ir1} z}\\right\\}\n",
    "$$\n",
    "\n",
    "$$\n",
    "\\Delta_{y}: \\frac{\\Delta_{z} Mn d_{o} y - \\Delta_{z} d_{o} dx_{il2} + \\Delta_{z} dx_{il2} z + d_{o}^{2} dx_{il2} - 2 d_{o} dx_{il2} z + dx_{il2} z^{2}}{2 \\left(- Mn d_{o}^{2} + Mn d_{o} z\\right)} + \\frac{\\Delta_{z} Mn d_{o} y - \\Delta_{z} d_{o} dx_{ir2} + \\Delta_{z} dx_{ir2} z + d_{o}^{2} dx_{ir2} - 2 d_{o} dx_{ir2} z + dx_{ir2} z^{2}}{2 \\left(- Mn d_{o}^{2} + Mn d_{o} z\\right)}\n",
    "$$"
   ]
  }
 ],
 "metadata": {
  "kernelspec": {
   "display_name": "Python 3",
   "language": "python",
   "name": "python3"
  },
  "language_info": {
   "codemirror_mode": {
    "name": "ipython",
    "version": 3
   },
   "file_extension": ".py",
   "mimetype": "text/x-python",
   "name": "python",
   "nbconvert_exporter": "python",
   "pygments_lexer": "ipython3",
   "version": "3.12.6"
  }
 },
 "nbformat": 4,
 "nbformat_minor": 5
}
