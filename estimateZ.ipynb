{
 "cells": [
  {
   "cell_type": "code",
   "execution_count": 5,
   "id": "0a6b7b18",
   "metadata": {},
   "outputs": [],
   "source": [
    "from sympy import *"
   ]
  },
  {
   "cell_type": "code",
   "execution_count": 81,
   "id": "27b24217",
   "metadata": {},
   "outputs": [],
   "source": [
    "Z, dX, theta, dZ, f, dP1, dP2 = symbols('Z d_X theta d_Z f dP_1 dP_2', real=True, positive=True)\n",
    "# 声明符号\n",
    "x, y = symbols('x y')"
   ]
  },
  {
   "cell_type": "code",
   "execution_count": 19,
   "id": "1c18a226",
   "metadata": {},
   "outputs": [],
   "source": [
    "P1 = Matrix([0, Z])\n",
    "P2 = Matrix([dX * cos(theta), Z + dX * sin(theta)])"
   ]
  },
  {
   "cell_type": "code",
   "execution_count": 20,
   "id": "bc9ddf98",
   "metadata": {},
   "outputs": [],
   "source": [
    "deviate = Matrix([-dZ * sin(theta), dZ * cos(theta)])\n",
    "P3 = P1 + deviate\n",
    "P4 = P2 + deviate"
   ]
  },
  {
   "cell_type": "code",
   "execution_count": 21,
   "id": "c5465e28",
   "metadata": {},
   "outputs": [],
   "source": [
    "# 移动object plane的原点使其不与principle point重合\n",
    "X0 = symbols('X_0', real=True, positive=True)\n",
    "translation = Matrix([X0 * cos(theta), X0 * sin(theta)])"
   ]
  },
  {
   "cell_type": "code",
   "execution_count": 22,
   "id": "2811611d",
   "metadata": {},
   "outputs": [],
   "source": [
    "P1 += translation\n",
    "P2 += translation\n",
    "P3 += translation\n",
    "P4 += translation"
   ]
  },
  {
   "cell_type": "code",
   "execution_count": 27,
   "id": "88686de3",
   "metadata": {},
   "outputs": [
    {
     "data": {
      "text/latex": [
       "$\\displaystyle \\left[\\begin{matrix}X_{0} \\cos{\\left(\\theta \\right)}\\\\X_{0} \\sin{\\left(\\theta \\right)} + Z\\end{matrix}\\right]$"
      ],
      "text/plain": [
       "Matrix([\n",
       "[    X_0*cos(theta)],\n",
       "[X_0*sin(theta) + Z]])"
      ]
     },
     "execution_count": 27,
     "metadata": {},
     "output_type": "execute_result"
    }
   ],
   "source": [
    "P1"
   ]
  },
  {
   "cell_type": "code",
   "execution_count": 44,
   "id": "f452b3b7",
   "metadata": {},
   "outputs": [],
   "source": [
    "def twoPointsLine(p1, p2):\n",
    "    dx = p2[0] - p1[0]\n",
    "    dy = p2[1] - p1[1]\n",
    "    m = dy / dx\n",
    "    # 使用点斜式 y - 0 = m(x - 0)\n",
    "    eq_point_slope = Eq(y - p1[0], m * (x-p1[1]))\n",
    "    # 转为一般式 Ax + By + C = 0\n",
    "    eq_standard = eq_point_slope.lhs - eq_point_slope.rhs\n",
    "    return eq_standard"
   ]
  },
  {
   "cell_type": "code",
   "execution_count": 45,
   "id": "02249d24",
   "metadata": {},
   "outputs": [],
   "source": [
    "L1 = twoPointsLine(Point(0, 0), P1)\n",
    "L2 = twoPointsLine(Point(0, 0), P2)\n",
    "L3 = twoPointsLine(Point(0, 0), P3)\n",
    "L4 = twoPointsLine(Point(0, 0), P4)"
   ]
  },
  {
   "cell_type": "code",
   "execution_count": 72,
   "id": "f6179f90",
   "metadata": {},
   "outputs": [
    {
     "name": "stdout",
     "output_type": "stream",
     "text": [
      "True\n",
      "True\n",
      "True\n",
      "True\n"
     ]
    }
   ],
   "source": [
    "# Test whether the lines are correct\n",
    "for p, l in zip([P1, P2, P3, P4], [L1, L2, L3, L4]):\n",
    "    ans = simplify(solve(l.subs(x, p[0]), y)[0] - p[1])\n",
    "    print(ans == 0)"
   ]
  },
  {
   "cell_type": "code",
   "execution_count": 76,
   "id": "7071db40",
   "metadata": {},
   "outputs": [
    {
     "data": {
      "text/latex": [
       "$\\displaystyle d_{X}$"
      ],
      "text/plain": [
       "d_X"
      ]
     },
     "execution_count": 76,
     "metadata": {},
     "output_type": "execute_result"
    }
   ],
   "source": [
    "d12 = solve(L2.subs(y, P1[1]), x)[0] - P1[0]\n",
    "simplify(d12.subs(theta, 0))"
   ]
  },
  {
   "cell_type": "code",
   "execution_count": 78,
   "id": "24cb3668",
   "metadata": {},
   "outputs": [
    {
     "data": {
      "text/latex": [
       "$\\displaystyle d_{X}$"
      ],
      "text/plain": [
       "d_X"
      ]
     },
     "execution_count": 78,
     "metadata": {},
     "output_type": "execute_result"
    }
   ],
   "source": [
    "d34 = solve(L4.subs(y, P3[1]), x)[0] - P3[0]\n",
    "simplify(d34.subs(theta, 0))"
   ]
  },
  {
   "cell_type": "code",
   "execution_count": 84,
   "id": "86db7aad",
   "metadata": {},
   "outputs": [
    {
     "data": {
      "text/latex": [
       "$\\displaystyle - X_{0} \\sin{\\left(\\theta \\right)} - d_{X} \\sin{\\left(\\theta \\right)} + \\frac{d_{X} f \\cos{\\left(\\theta \\right)}}{dP_{1}}$"
      ],
      "text/plain": [
       "-X_0*sin(theta) - d_X*sin(theta) + d_X*f*cos(theta)/dP_1"
      ]
     },
     "execution_count": 84,
     "metadata": {},
     "output_type": "execute_result"
    }
   ],
   "source": [
    "eq1 = Eq(d12 / Z, dP1 / f)\n",
    "solve(eq1, Z)[0]"
   ]
  },
  {
   "cell_type": "code",
   "execution_count": 85,
   "id": "5cebe575",
   "metadata": {},
   "outputs": [
    {
     "data": {
      "text/latex": [
       "$\\displaystyle \\frac{- X_{0} dP_{2} \\sin{\\left(\\theta \\right)} - dP_{2} d_{X} \\sin{\\left(\\theta \\right)} - dP_{2} d_{Z} \\cos{\\left(\\theta \\right)} + d_{X} f \\cos{\\left(\\theta \\right)} - \\sqrt{- \\frac{X_{0}^{2} dP_{2}^{2} \\cos{\\left(2 \\theta \\right)}}{2} + \\frac{X_{0}^{2} dP_{2}^{2}}{2} - X_{0} dP_{2}^{2} d_{X} \\cos{\\left(2 \\theta \\right)} + X_{0} dP_{2}^{2} d_{X} + X_{0} dP_{2}^{2} d_{Z} \\sin{\\left(2 \\theta \\right)} - X_{0} dP_{2} d_{X} f \\sin{\\left(2 \\theta \\right)} - \\frac{dP_{2}^{2} d_{X}^{2} \\cos{\\left(2 \\theta \\right)}}{2} + \\frac{dP_{2}^{2} d_{X}^{2}}{2} + dP_{2}^{2} d_{X} d_{Z} \\sin{\\left(2 \\theta \\right)} + \\frac{dP_{2}^{2} d_{Z}^{2} \\cos{\\left(2 \\theta \\right)}}{2} + \\frac{dP_{2}^{2} d_{Z}^{2}}{2} - dP_{2} d_{X}^{2} f \\sin{\\left(2 \\theta \\right)} - dP_{2} d_{X} d_{Z} f \\cos{\\left(2 \\theta \\right)} + 3 dP_{2} d_{X} d_{Z} f + \\frac{d_{X}^{2} f^{2} \\cos{\\left(2 \\theta \\right)}}{2} + \\frac{d_{X}^{2} f^{2}}{2}}}{2 dP_{2}}$"
      ],
      "text/plain": [
       "(-X_0*dP_2*sin(theta) - dP_2*d_X*sin(theta) - dP_2*d_Z*cos(theta) + d_X*f*cos(theta) - sqrt(-X_0**2*dP_2**2*cos(2*theta)/2 + X_0**2*dP_2**2/2 - X_0*dP_2**2*d_X*cos(2*theta) + X_0*dP_2**2*d_X + X_0*dP_2**2*d_Z*sin(2*theta) - X_0*dP_2*d_X*f*sin(2*theta) - dP_2**2*d_X**2*cos(2*theta)/2 + dP_2**2*d_X**2/2 + dP_2**2*d_X*d_Z*sin(2*theta) + dP_2**2*d_Z**2*cos(2*theta)/2 + dP_2**2*d_Z**2/2 - dP_2*d_X**2*f*sin(2*theta) - dP_2*d_X*d_Z*f*cos(2*theta) + 3*dP_2*d_X*d_Z*f + d_X**2*f**2*cos(2*theta)/2 + d_X**2*f**2/2))/(2*dP_2)"
      ]
     },
     "execution_count": 85,
     "metadata": {},
     "output_type": "execute_result"
    }
   ],
   "source": [
    "eq2 = Eq(d34 / Z, dP2 / f)\n",
    "solve(eq2, Z)[0]"
   ]
  }
 ],
 "metadata": {
  "kernelspec": {
   "display_name": "Python 3",
   "language": "python",
   "name": "python3"
  },
  "language_info": {
   "codemirror_mode": {
    "name": "ipython",
    "version": 3
   },
   "file_extension": ".py",
   "mimetype": "text/x-python",
   "name": "python",
   "nbconvert_exporter": "python",
   "pygments_lexer": "ipython3",
   "version": "3.13.1"
  }
 },
 "nbformat": 4,
 "nbformat_minor": 5
}
