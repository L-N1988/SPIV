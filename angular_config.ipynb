{
 "cells": [
  {
   "cell_type": "code",
   "execution_count": 3,
   "id": "0a6b7b18",
   "metadata": {},
   "outputs": [],
   "source": [
    "from sympy import *"
   ]
  },
  {
   "cell_type": "code",
   "execution_count": 3,
   "id": "3916a372",
   "metadata": {},
   "outputs": [],
   "source": [
    "# do: object distance\n",
    "# di: image distance\n",
    "do, di, S = symbols(\"d_o d_i S\", real=True, positive=True)\n",
    "theta = symbols(\"theta\", real=True)"
   ]
  },
  {
   "cell_type": "code",
   "execution_count": 4,
   "id": "252012a9",
   "metadata": {},
   "outputs": [
    {
     "data": {
      "text/latex": [
       "$\\displaystyle S + d_{i} + d_{o} + \\theta$"
      ],
      "text/plain": [
       "S + d_i + d_o + theta"
      ]
     },
     "execution_count": 4,
     "metadata": {},
     "output_type": "execute_result"
    }
   ],
   "source": [
    "theta + di + S + do"
   ]
  },
  {
   "cell_type": "code",
   "execution_count": 5,
   "id": "c0e1577e",
   "metadata": {},
   "outputs": [
    {
     "data": {
      "text/latex": [
       "$\\displaystyle \\left[\\begin{matrix}\\cos{\\left(\\theta \\right)} & 0 & - \\sin{\\left(\\theta \\right)}\\\\0 & 1 & 0\\\\\\sin{\\left(\\theta \\right)} & 0 & \\cos{\\left(\\theta \\right)}\\end{matrix}\\right]$"
      ],
      "text/plain": [
       "Matrix([\n",
       "[cos(theta), 0, -sin(theta)],\n",
       "[         0, 1,           0],\n",
       "[sin(theta), 0,  cos(theta)]])"
      ]
     },
     "execution_count": 5,
     "metadata": {},
     "output_type": "execute_result"
    }
   ],
   "source": [
    "Rl = Matrix([[cos(theta), 0, -sin(theta)], [0, 1, 0], [sin(theta), 0, cos(theta)]])\n",
    "Rl  # Rotating matrix from world frame to left camera frame"
   ]
  },
  {
   "cell_type": "code",
   "execution_count": 6,
   "id": "8c759f5c",
   "metadata": {},
   "outputs": [
    {
     "data": {
      "text/latex": [
       "$\\displaystyle \\left[\\begin{matrix}\\cos{\\left(\\theta \\right)} & 0 & \\sin{\\left(\\theta \\right)}\\\\0 & 1 & 0\\\\- \\sin{\\left(\\theta \\right)} & 0 & \\cos{\\left(\\theta \\right)}\\end{matrix}\\right]$"
      ],
      "text/plain": [
       "Matrix([\n",
       "[ cos(theta), 0, sin(theta)],\n",
       "[          0, 1,          0],\n",
       "[-sin(theta), 0, cos(theta)]])"
      ]
     },
     "execution_count": 6,
     "metadata": {},
     "output_type": "execute_result"
    }
   ],
   "source": [
    "Rr = Matrix([[cos(theta), 0, sin(theta)], [0, 1, 0], [-sin(theta), 0, cos(theta)]])\n",
    "Rr  # Rotating matrix from world frame to right camera frame"
   ]
  },
  {
   "cell_type": "code",
   "execution_count": 7,
   "id": "5609749d",
   "metadata": {},
   "outputs": [
    {
     "data": {
      "text/latex": [
       "$\\displaystyle \\left[\\begin{matrix}d_{o} \\sin{\\left(\\theta \\right)}\\\\0\\\\- d_{o} \\cos{\\left(\\theta \\right)}\\end{matrix}\\right]$"
      ],
      "text/plain": [
       "Matrix([\n",
       "[ d_o*sin(theta)],\n",
       "[              0],\n",
       "[-d_o*cos(theta)]])"
      ]
     },
     "execution_count": 7,
     "metadata": {},
     "output_type": "execute_result"
    }
   ],
   "source": [
    "Tl = Matrix([do * sin(theta), 0, -do * cos(theta)])\n",
    "Tl  # Translating matrix from world frame to left camera frame"
   ]
  },
  {
   "cell_type": "code",
   "execution_count": 8,
   "id": "42d615bf",
   "metadata": {},
   "outputs": [
    {
     "data": {
      "text/latex": [
       "$\\displaystyle \\left[\\begin{matrix}- d_{o} \\sin{\\left(\\theta \\right)}\\\\0\\\\- d_{o} \\cos{\\left(\\theta \\right)}\\end{matrix}\\right]$"
      ],
      "text/plain": [
       "Matrix([\n",
       "[-d_o*sin(theta)],\n",
       "[              0],\n",
       "[-d_o*cos(theta)]])"
      ]
     },
     "execution_count": 8,
     "metadata": {},
     "output_type": "execute_result"
    }
   ],
   "source": [
    "Tr = Matrix([-do * sin(theta), 0, -do * cos(theta)])\n",
    "Tr  # Translating matrix from world frame to right camera frame"
   ]
  },
  {
   "cell_type": "code",
   "execution_count": 9,
   "id": "cddb6ef8",
   "metadata": {},
   "outputs": [],
   "source": [
    "x, y, z, dx, dy, dz = symbols(\"x y z Delta_x Delta_y Delta_z\", real=True)\n",
    "\n",
    "Xw1 = Matrix([x, y, z])  # World coordinates of the point\n",
    "Xw2 = Matrix([x + dx, y + dy, z + dz])  # World coordinates of the point\n",
    "flipZ = Matrix(\n",
    "    [[1, 0, 0], [0, 1, 0], [0, 0, -1]]\n",
    ")  # Apply reflection matrix to flip Z direction between world frame and camera frame"
   ]
  },
  {
   "cell_type": "code",
   "execution_count": 10,
   "id": "d92bacbc",
   "metadata": {},
   "outputs": [],
   "source": [
    "extrinsicl = Rl.row_join(Tl)  # Extrinsic matrix from world frame to left camera frame\n",
    "extrinsicr = Rr.row_join(Tr)  # Extrinsic matrix from world frame to right camera frame\n",
    "Pl = flipZ * extrinsicl  # Projection matrix from world frame to left camera frame\n",
    "Pr = flipZ * extrinsicr  # Projection matrix from world frame to right camera frame"
   ]
  },
  {
   "cell_type": "code",
   "execution_count": 11,
   "id": "0902844b",
   "metadata": {},
   "outputs": [
    {
     "data": {
      "text/latex": [
       "$\\displaystyle \\left[\\begin{matrix}\\cos{\\left(\\theta \\right)} & 0 & - \\sin{\\left(\\theta \\right)} & d_{o} \\sin{\\left(\\theta \\right)}\\\\0 & 1 & 0 & 0\\\\- \\sin{\\left(\\theta \\right)} & 0 & - \\cos{\\left(\\theta \\right)} & d_{o} \\cos{\\left(\\theta \\right)}\\end{matrix}\\right]$"
      ],
      "text/plain": [
       "Matrix([\n",
       "[ cos(theta), 0, -sin(theta), d_o*sin(theta)],\n",
       "[          0, 1,           0,              0],\n",
       "[-sin(theta), 0, -cos(theta), d_o*cos(theta)]])"
      ]
     },
     "execution_count": 11,
     "metadata": {},
     "output_type": "execute_result"
    }
   ],
   "source": [
    "Pl"
   ]
  },
  {
   "cell_type": "code",
   "execution_count": 12,
   "id": "b5882ac8",
   "metadata": {},
   "outputs": [
    {
     "data": {
      "text/latex": [
       "$\\displaystyle \\left[\\begin{matrix}\\cos{\\left(\\theta \\right)} & 0 & \\sin{\\left(\\theta \\right)} & - d_{o} \\sin{\\left(\\theta \\right)}\\\\0 & 1 & 0 & 0\\\\\\sin{\\left(\\theta \\right)} & 0 & - \\cos{\\left(\\theta \\right)} & d_{o} \\cos{\\left(\\theta \\right)}\\end{matrix}\\right]$"
      ],
      "text/plain": [
       "Matrix([\n",
       "[cos(theta), 0,  sin(theta), -d_o*sin(theta)],\n",
       "[         0, 1,           0,               0],\n",
       "[sin(theta), 0, -cos(theta),  d_o*cos(theta)]])"
      ]
     },
     "execution_count": 12,
     "metadata": {},
     "output_type": "execute_result"
    }
   ],
   "source": [
    "Pr"
   ]
  },
  {
   "cell_type": "code",
   "execution_count": 13,
   "id": "06eef0af",
   "metadata": {},
   "outputs": [],
   "source": [
    "Xl1 = Pl * Xw1.row_insert(3, Matrix([1]))  # Point 1 in left camera frame\n",
    "Xl2 = Pl * Xw2.row_insert(3, Matrix([1]))  # Point 2 in left camera frame\n",
    "Xr1 = Pr * Xw1.row_insert(3, Matrix([1]))  # Point 1 in right camera frame\n",
    "Xr2 = Pr * Xw2.row_insert(3, Matrix([1]))  # Point 2 in right camera frame"
   ]
  },
  {
   "cell_type": "code",
   "execution_count": 14,
   "id": "6cd2b2a5",
   "metadata": {},
   "outputs": [],
   "source": [
    "Xol1 = (\n",
    "    (do / (1 - tan(theta) * Xl1[0] / Xl1[2])) / (Xl1[2]) * Xl1\n",
    ")  # Point 1 in left image frame object plane\n",
    "Xol2 = (\n",
    "    (do / (1 - tan(theta) * Xl2[0] / Xl2[2])) / (Xl2[2]) * Xl2\n",
    ")  # Point 2 in left image frame object plane\n",
    "Xor1 = (\n",
    "    (do / (1 - tan(theta) * Xr1[0] / Xr1[2])) / (Xr1[2]) * Xr1\n",
    ")  # Point 1 in right image frame object plane\n",
    "Xor2 = (\n",
    "    (do / (1 - tan(theta) * Xr2[0] / Xr2[2])) / (Xr2[2]) * Xr2\n",
    ")  # Point 2 in right image frame object plane"
   ]
  },
  {
   "cell_type": "code",
   "execution_count": 15,
   "id": "a90fdb08",
   "metadata": {},
   "outputs": [
    {
     "data": {
      "text/latex": [
       "$\\displaystyle \\left[\\begin{matrix}x\\\\y\\\\d_{o}\\end{matrix}\\right]$"
      ],
      "text/plain": [
       "Matrix([\n",
       "[  x],\n",
       "[  y],\n",
       "[d_o]])"
      ]
     },
     "execution_count": 15,
     "metadata": {},
     "output_type": "execute_result"
    }
   ],
   "source": [
    "simplify(Xol1.subs({theta: 0, z: 0}))"
   ]
  },
  {
   "cell_type": "code",
   "execution_count": 16,
   "id": "f013cde4",
   "metadata": {},
   "outputs": [
    {
     "data": {
      "text/latex": [
       "$\\displaystyle \\left[\\begin{matrix}- \\frac{d_{o} \\left(\\Delta_{x} + x\\right)}{\\Delta_{z} - d_{o}}\\\\- \\frac{d_{o} \\left(\\Delta_{y} + y\\right)}{\\Delta_{z} - d_{o}}\\\\d_{o}\\end{matrix}\\right]$"
      ],
      "text/plain": [
       "Matrix([\n",
       "[-d_o*(Delta_x + x)/(Delta_z - d_o)],\n",
       "[-d_o*(Delta_y + y)/(Delta_z - d_o)],\n",
       "[                               d_o]])"
      ]
     },
     "execution_count": 16,
     "metadata": {},
     "output_type": "execute_result"
    }
   ],
   "source": [
    "simplify(Xol2.subs({theta: 0, z: 0}))"
   ]
  },
  {
   "cell_type": "code",
   "execution_count": 17,
   "id": "cddd1f1b",
   "metadata": {},
   "outputs": [
    {
     "data": {
      "text/latex": [
       "$\\displaystyle \\left[\\begin{matrix}x\\\\y\\\\d_{o}\\end{matrix}\\right]$"
      ],
      "text/plain": [
       "Matrix([\n",
       "[  x],\n",
       "[  y],\n",
       "[d_o]])"
      ]
     },
     "execution_count": 17,
     "metadata": {},
     "output_type": "execute_result"
    }
   ],
   "source": [
    "simplify(Xor1.subs({theta: 0, z: 0}))"
   ]
  },
  {
   "cell_type": "code",
   "execution_count": 18,
   "id": "dd978b75",
   "metadata": {},
   "outputs": [
    {
     "data": {
      "text/latex": [
       "$\\displaystyle \\left[\\begin{matrix}- \\frac{d_{o} \\left(\\Delta_{x} + x\\right)}{\\Delta_{z} - d_{o}}\\\\- \\frac{d_{o} \\left(\\Delta_{y} + y\\right)}{\\Delta_{z} - d_{o}}\\\\d_{o}\\end{matrix}\\right]$"
      ],
      "text/plain": [
       "Matrix([\n",
       "[-d_o*(Delta_x + x)/(Delta_z - d_o)],\n",
       "[-d_o*(Delta_y + y)/(Delta_z - d_o)],\n",
       "[                               d_o]])"
      ]
     },
     "execution_count": 18,
     "metadata": {},
     "output_type": "execute_result"
    }
   ],
   "source": [
    "simplify(Xor2.subs({theta: 0, z: 0}))"
   ]
  },
  {
   "cell_type": "code",
   "execution_count": 19,
   "id": "6e98593f",
   "metadata": {},
   "outputs": [],
   "source": [
    "dXol = Xol2 - Xol1  # Distance in left image frame object plane\n",
    "dXor = Xor2 - Xor1  # Distance in right image frame object plane"
   ]
  },
  {
   "cell_type": "code",
   "execution_count": 20,
   "id": "78cf4238",
   "metadata": {},
   "outputs": [
    {
     "data": {
      "text/latex": [
       "$\\displaystyle \\left[\\begin{matrix}\\Delta_{x}\\\\\\Delta_{y}\\\\0\\end{matrix}\\right]$"
      ],
      "text/plain": [
       "Matrix([\n",
       "[Delta_x],\n",
       "[Delta_y],\n",
       "[      0]])"
      ]
     },
     "execution_count": 20,
     "metadata": {},
     "output_type": "execute_result"
    }
   ],
   "source": [
    "simplify(dXol.subs({theta: 0, z: 0, dz: 0}))"
   ]
  },
  {
   "cell_type": "code",
   "execution_count": 21,
   "id": "ee863e65",
   "metadata": {},
   "outputs": [
    {
     "data": {
      "text/latex": [
       "$\\displaystyle \\left[\\begin{matrix}\\Delta_{x}\\\\\\Delta_{y}\\\\0\\end{matrix}\\right]$"
      ],
      "text/plain": [
       "Matrix([\n",
       "[Delta_x],\n",
       "[Delta_y],\n",
       "[      0]])"
      ]
     },
     "execution_count": 21,
     "metadata": {},
     "output_type": "execute_result"
    }
   ],
   "source": [
    "simplify(dXor.subs({theta: 0, z: 0, dz: 0}))"
   ]
  },
  {
   "cell_type": "markdown",
   "id": "43756727",
   "metadata": {},
   "source": [
    "# $\\alpha = 0$ condition"
   ]
  },
  {
   "cell_type": "code",
   "execution_count": 22,
   "id": "0d426bcd",
   "metadata": {},
   "outputs": [],
   "source": [
    "Xil1 = -di / Xol1[2] * Xol1  # Point 1 in left image frame image plane\n",
    "Xil2 = -di / Xol2[2] * Xol2  # Point 2 in left image frame image plane\n",
    "Xir1 = -di / Xor1[2] * Xor1  # Point 1 in right image frame image plane\n",
    "Xir2 = -di / Xor2[2] * Xor2  # Point 2 in right image frame image plane"
   ]
  },
  {
   "cell_type": "code",
   "execution_count": 23,
   "id": "c12c776d",
   "metadata": {},
   "outputs": [],
   "source": [
    "dXil = Xil2 - Xil1  # Distance in left image frame image plane\n",
    "dXir = Xir2 - Xir1  # Distance in right image frame image plane"
   ]
  },
  {
   "cell_type": "code",
   "execution_count": 24,
   "id": "c452d31e",
   "metadata": {},
   "outputs": [
    {
     "data": {
      "text/latex": [
       "$\\displaystyle \\left[\\begin{matrix}- \\frac{\\Delta_{x} d_{i}}{d_{o}}\\\\- \\frac{\\Delta_{y} d_{i}}{d_{o}}\\\\0\\end{matrix}\\right]$"
      ],
      "text/plain": [
       "Matrix([\n",
       "[-Delta_x*d_i/d_o],\n",
       "[-Delta_y*d_i/d_o],\n",
       "[               0]])"
      ]
     },
     "execution_count": 24,
     "metadata": {},
     "output_type": "execute_result"
    }
   ],
   "source": [
    "simplify(dXil.subs({theta: 0, z: 0, dz: 0}))"
   ]
  },
  {
   "cell_type": "code",
   "execution_count": 25,
   "id": "67d04eed",
   "metadata": {},
   "outputs": [
    {
     "data": {
      "text/latex": [
       "$\\displaystyle \\left[\\begin{matrix}- \\frac{\\Delta_{x} d_{i}}{d_{o}}\\\\- \\frac{\\Delta_{y} d_{i}}{d_{o}}\\\\0\\end{matrix}\\right]$"
      ],
      "text/plain": [
       "Matrix([\n",
       "[-Delta_x*d_i/d_o],\n",
       "[-Delta_y*d_i/d_o],\n",
       "[               0]])"
      ]
     },
     "execution_count": 25,
     "metadata": {},
     "output_type": "execute_result"
    }
   ],
   "source": [
    "simplify(dXir.subs({theta: 0, z: 0, dz: 0}))"
   ]
  },
  {
   "cell_type": "code",
   "execution_count": 26,
   "id": "9d08aeb7",
   "metadata": {},
   "outputs": [
    {
     "data": {
      "text/latex": [
       "$\\displaystyle \\frac{d_{i} \\left(- \\Delta_{x} d_{o} + \\Delta_{x} z - \\Delta_{z} x\\right)}{\\left(- d_{o} \\cos{\\left(\\theta \\right)} + x \\sin{\\left(\\theta \\right)} + z \\cos{\\left(\\theta \\right)}\\right) \\left(- d_{o} \\cos{\\left(\\theta \\right)} + \\left(\\Delta_{x} + x\\right) \\sin{\\left(\\theta \\right)} + \\left(\\Delta_{z} + z\\right) \\cos{\\left(\\theta \\right)}\\right)}$"
      ],
      "text/plain": [
       "d_i*(-Delta_x*d_o + Delta_x*z - Delta_z*x)/((-d_o*cos(theta) + x*sin(theta) + z*cos(theta))*(-d_o*cos(theta) + (Delta_x + x)*sin(theta) + (Delta_z + z)*cos(theta)))"
      ]
     },
     "execution_count": 26,
     "metadata": {},
     "output_type": "execute_result"
    }
   ],
   "source": [
    "simplify(dXil[0])"
   ]
  },
  {
   "cell_type": "code",
   "execution_count": 27,
   "id": "0e31d941",
   "metadata": {},
   "outputs": [
    {
     "data": {
      "text/latex": [
       "$\\displaystyle \\frac{d_{i} \\left(- \\Delta_{x} d_{o} + \\Delta_{x} z - \\Delta_{z} x\\right)}{\\left(d_{o} \\cos{\\left(\\theta \\right)} + x \\sin{\\left(\\theta \\right)} - z \\cos{\\left(\\theta \\right)}\\right) \\left(d_{o} \\cos{\\left(\\theta \\right)} + \\left(\\Delta_{x} + x\\right) \\sin{\\left(\\theta \\right)} - \\left(\\Delta_{z} + z\\right) \\cos{\\left(\\theta \\right)}\\right)}$"
      ],
      "text/plain": [
       "d_i*(-Delta_x*d_o + Delta_x*z - Delta_z*x)/((d_o*cos(theta) + x*sin(theta) - z*cos(theta))*(d_o*cos(theta) + (Delta_x + x)*sin(theta) - (Delta_z + z)*cos(theta)))"
      ]
     },
     "execution_count": 27,
     "metadata": {},
     "output_type": "execute_result"
    }
   ],
   "source": [
    "simplify(dXir[0])"
   ]
  },
  {
   "cell_type": "code",
   "execution_count": 28,
   "id": "c2f1b69b",
   "metadata": {},
   "outputs": [
    {
     "data": {
      "text/latex": [
       "$\\displaystyle \\frac{d_{i} \\left(- \\Delta_{x} y \\sin{\\left(\\theta \\right)} - \\Delta_{y} d_{o} \\cos{\\left(\\theta \\right)} + \\Delta_{y} x \\sin{\\left(\\theta \\right)} + \\Delta_{y} z \\cos{\\left(\\theta \\right)} - \\Delta_{z} y \\cos{\\left(\\theta \\right)}\\right)}{\\left(- d_{o} \\cos{\\left(\\theta \\right)} + x \\sin{\\left(\\theta \\right)} + z \\cos{\\left(\\theta \\right)}\\right) \\left(- d_{o} \\cos{\\left(\\theta \\right)} + \\left(\\Delta_{x} + x\\right) \\sin{\\left(\\theta \\right)} + \\left(\\Delta_{z} + z\\right) \\cos{\\left(\\theta \\right)}\\right)}$"
      ],
      "text/plain": [
       "d_i*(-Delta_x*y*sin(theta) - Delta_y*d_o*cos(theta) + Delta_y*x*sin(theta) + Delta_y*z*cos(theta) - Delta_z*y*cos(theta))/((-d_o*cos(theta) + x*sin(theta) + z*cos(theta))*(-d_o*cos(theta) + (Delta_x + x)*sin(theta) + (Delta_z + z)*cos(theta)))"
      ]
     },
     "execution_count": 28,
     "metadata": {},
     "output_type": "execute_result"
    }
   ],
   "source": [
    "simplify(dXil[1])"
   ]
  },
  {
   "cell_type": "code",
   "execution_count": 29,
   "id": "b77a27ab",
   "metadata": {},
   "outputs": [
    {
     "data": {
      "text/latex": [
       "$\\displaystyle \\frac{d_{i} \\left(\\Delta_{x} y \\sin{\\left(\\theta \\right)} - \\Delta_{y} d_{o} \\cos{\\left(\\theta \\right)} - \\Delta_{y} x \\sin{\\left(\\theta \\right)} + \\Delta_{y} z \\cos{\\left(\\theta \\right)} - \\Delta_{z} y \\cos{\\left(\\theta \\right)}\\right)}{\\left(d_{o} \\cos{\\left(\\theta \\right)} + x \\sin{\\left(\\theta \\right)} - z \\cos{\\left(\\theta \\right)}\\right) \\left(d_{o} \\cos{\\left(\\theta \\right)} + \\left(\\Delta_{x} + x\\right) \\sin{\\left(\\theta \\right)} - \\left(\\Delta_{z} + z\\right) \\cos{\\left(\\theta \\right)}\\right)}$"
      ],
      "text/plain": [
       "d_i*(Delta_x*y*sin(theta) - Delta_y*d_o*cos(theta) - Delta_y*x*sin(theta) + Delta_y*z*cos(theta) - Delta_z*y*cos(theta))/((d_o*cos(theta) + x*sin(theta) - z*cos(theta))*(d_o*cos(theta) + (Delta_x + x)*sin(theta) - (Delta_z + z)*cos(theta)))"
      ]
     },
     "execution_count": 29,
     "metadata": {},
     "output_type": "execute_result"
    }
   ],
   "source": [
    "simplify(dXir[1])"
   ]
  },
  {
   "cell_type": "code",
   "execution_count": 30,
   "id": "2f5446a1",
   "metadata": {},
   "outputs": [
    {
     "data": {
      "text/plain": [
       "((delta_il1, delta_il2, delta_il3), (delta_ir1, delta_ir2, delta_ir3))"
      ]
     },
     "execution_count": 30,
     "metadata": {},
     "output_type": "execute_result"
    }
   ],
   "source": [
    "n = 3\n",
    "dxil_val = symbols(\"delta_il1:%d\" % (n + 1))  # Distance in left image frame image plane\n",
    "dxir_val = symbols(\n",
    "    \"delta_ir1:%d\" % (n + 1)\n",
    ")  # Distance in right image frame image plane\n",
    "dxil_val, dxir_val"
   ]
  },
  {
   "cell_type": "code",
   "execution_count": 31,
   "id": "7b8cdaec",
   "metadata": {},
   "outputs": [],
   "source": [
    "sol_dx_dz = solve(\n",
    "    (\n",
    "        Eq(dXil[0], dxil_val[0]),\n",
    "        Eq(dXir[0], dxir_val[0]),\n",
    "    ),\n",
    "    (dx, dz),\n",
    ")"
   ]
  },
  {
   "cell_type": "code",
   "execution_count": 32,
   "id": "c1e5e5ef",
   "metadata": {},
   "outputs": [
    {
     "data": {
      "text/plain": [
       "[]"
      ]
     },
     "execution_count": 32,
     "metadata": {},
     "output_type": "execute_result"
    }
   ],
   "source": [
    "sol_dx_dz  # 无解，不符合沙姆定律😭"
   ]
  },
  {
   "cell_type": "code",
   "execution_count": 33,
   "id": "de0ece13",
   "metadata": {},
   "outputs": [
    {
     "data": {
      "text/latex": [
       "$\\displaystyle \\delta_{il1} = \\frac{2 \\Delta_{x}}{\\Delta_{x} + \\Delta_{z} - 1}$"
      ],
      "text/plain": [
       "Eq(delta_il1, 2*Delta_x/(Delta_x + Delta_z - 1))"
      ]
     },
     "execution_count": 33,
     "metadata": {},
     "output_type": "execute_result"
    }
   ],
   "source": [
    "simplify(Eq(dXil[0], dxil_val[0]).subs({theta: pi / 4, z: 0, di: 1, do: 1, x: 0}))"
   ]
  },
  {
   "cell_type": "code",
   "execution_count": 34,
   "id": "49d5a59e",
   "metadata": {},
   "outputs": [
    {
     "data": {
      "text/latex": [
       "$\\displaystyle \\delta_{ir1} = - \\frac{2 \\Delta_{x}}{\\Delta_{x} - \\Delta_{z} + 1}$"
      ],
      "text/plain": [
       "Eq(delta_ir1, -2*Delta_x/(Delta_x - Delta_z + 1))"
      ]
     },
     "execution_count": 34,
     "metadata": {},
     "output_type": "execute_result"
    }
   ],
   "source": [
    "simplify(Eq(dXir[0], dxir_val[0]).subs({theta: pi / 4, z: 0, di: 1, do: 1, x: 0}))"
   ]
  },
  {
   "cell_type": "code",
   "execution_count": 35,
   "id": "03cf8c11",
   "metadata": {},
   "outputs": [
    {
     "ename": "TypeError",
     "evalue": "list indices must be integers or slices, not Symbol",
     "output_type": "error",
     "traceback": [
      "\u001b[31m---------------------------------------------------------------------------\u001b[39m",
      "\u001b[31mTypeError\u001b[39m                                 Traceback (most recent call last)",
      "\u001b[36mCell\u001b[39m\u001b[36m \u001b[39m\u001b[32mIn[35]\u001b[39m\u001b[32m, line 1\u001b[39m\n\u001b[32m----> \u001b[39m\u001b[32m1\u001b[39m sol_dx = \u001b[43msol_dx_dz\u001b[49m\u001b[43m[\u001b[49m\u001b[43mdx\u001b[49m\u001b[43m]\u001b[49m\n\u001b[32m      2\u001b[39m sol_dz = sol_dx_dz[dz]\n",
      "\u001b[31mTypeError\u001b[39m: list indices must be integers or slices, not Symbol"
     ]
    }
   ],
   "source": [
    "sol_dx = sol_dx_dz[dx]\n",
    "sol_dz = sol_dx_dz[dz]"
   ]
  },
  {
   "cell_type": "code",
   "execution_count": null,
   "id": "95b93c98",
   "metadata": {},
   "outputs": [],
   "source": [
    "sol_dy1 = solve((Eq(dXil[1], dxil_val[1])), dy)\n",
    "\n",
    "sol_dy2 = solve((Eq(dXir[1], dxir_val[1])), dy)\n",
    "\n",
    "sol_dy = (sol_dy1[dy] + sol_dy2[dy]) / 2"
   ]
  },
  {
   "cell_type": "code",
   "execution_count": null,
   "id": "57fcd030",
   "metadata": {},
   "outputs": [
    {
     "data": {
      "text/latex": [
       "$\\displaystyle \\frac{- \\frac{S dx_{il1}}{2} - \\frac{S dx_{ir1}}{2} + dx_{il1} x - dx_{ir1} x}{Mn S - dx_{il1} + dx_{ir1}}$"
      ],
      "text/plain": [
       "(-S*dx_il1/2 - S*dx_ir1/2 + dx_il1*x - dx_ir1*x)/(Mn*S - dx_il1 + dx_ir1)"
      ]
     },
     "execution_count": 47,
     "metadata": {},
     "output_type": "execute_result"
    }
   ],
   "source": [
    "simplify(sol_dx.subs({theta: 0, z: 0, dz: 0}))"
   ]
  },
  {
   "cell_type": "code",
   "execution_count": null,
   "id": "4f000e81",
   "metadata": {},
   "outputs": [
    {
     "data": {
      "text/latex": [
       "$\\displaystyle \\frac{- 2 \\Delta_{z} Mn y + \\Delta_{z} dx_{il2} + \\Delta_{z} dx_{ir2} - d_{o} dx_{il2} - d_{o} dx_{ir2}}{2 Mn d_{o}}$"
      ],
      "text/plain": [
       "(-2*Delta_z*Mn*y + Delta_z*dx_il2 + Delta_z*dx_ir2 - d_o*dx_il2 - d_o*dx_ir2)/(2*Mn*d_o)"
      ]
     },
     "execution_count": 27,
     "metadata": {},
     "output_type": "execute_result"
    }
   ],
   "source": [
    "simplify(sol_dy.subs({theta: 0, z: 0, dz: 0}))"
   ]
  },
  {
   "cell_type": "code",
   "execution_count": null,
   "id": "51666a2b",
   "metadata": {},
   "outputs": [
    {
     "data": {
      "text/latex": [
       "$\\displaystyle \\frac{d_{o} \\left(- dx_{il1} + dx_{ir1}\\right)}{Mn S - dx_{il1} + dx_{ir1}}$"
      ],
      "text/plain": [
       "d_o*(-dx_il1 + dx_ir1)/(Mn*S - dx_il1 + dx_ir1)"
      ]
     },
     "execution_count": 48,
     "metadata": {},
     "output_type": "execute_result"
    }
   ],
   "source": [
    "simplify(sol_dz.subs({theta: 0, z: 0, dz: 0}))"
   ]
  },
  {
   "cell_type": "code",
   "execution_count": null,
   "id": "1dd94b5c",
   "metadata": {},
   "outputs": [
    {
     "name": "stdout",
     "output_type": "stream",
     "text": [
      "\\left\\{ \\Delta_{x} : \\frac{- \\frac{S d_{o} dx_{il1}}{2} - \\frac{S d_{o} dx_{ir1}}{2} + \\frac{S dx_{il1} z}{2} + \\frac{S dx_{ir1} z}{2} + d_{o} dx_{il1} x - d_{o} dx_{ir1} x - dx_{il1} x z + dx_{ir1} x z}{Mn S d_{o} - d_{o} dx_{il1} + d_{o} dx_{ir1} + dx_{il1} z - dx_{ir1} z}, \\  \\Delta_{z} : \\frac{- d_{o}^{2} dx_{il1} + d_{o}^{2} dx_{ir1} + 2 d_{o} dx_{il1} z - 2 d_{o} dx_{ir1} z - dx_{il1} z^{2} + dx_{ir1} z^{2}}{Mn S d_{o} - d_{o} dx_{il1} + d_{o} dx_{ir1} + dx_{il1} z - dx_{ir1} z}\\right\\}\n",
      "\\frac{\\Delta_{z} Mn d_{o} y - \\Delta_{z} d_{o} dx_{il2} + \\Delta_{z} dx_{il2} z + d_{o}^{2} dx_{il2} - 2 d_{o} dx_{il2} z + dx_{il2} z^{2}}{2 \\left(- Mn d_{o}^{2} + Mn d_{o} z\\right)} + \\frac{\\Delta_{z} Mn d_{o} y - \\Delta_{z} d_{o} dx_{ir2} + \\Delta_{z} dx_{ir2} z + d_{o}^{2} dx_{ir2} - 2 d_{o} dx_{ir2} z + dx_{ir2} z^{2}}{2 \\left(- Mn d_{o}^{2} + Mn d_{o} z\\right)}\n"
     ]
    }
   ],
   "source": [
    "print(latex(sol_dx_dz))\n",
    "print(latex(sol_dy))"
   ]
  },
  {
   "cell_type": "code",
   "execution_count": null,
   "id": "ae5d1b0b",
   "metadata": {},
   "outputs": [],
   "source": []
  },
  {
   "cell_type": "markdown",
   "id": "a7b2f050",
   "metadata": {},
   "source": [
    "$$\n",
    "\\left\\{ \\Delta_{x} : \\frac{- \\frac{S d_{o} dx_{il1}}{2} - \\frac{S d_{o} dx_{ir1}}{2} + \\frac{S dx_{il1} z}{2} + \\frac{S dx_{ir1} z}{2} + d_{o} dx_{il1} x - d_{o} dx_{ir1} x - dx_{il1} x z + dx_{ir1} x z}{Mn S d_{o} - d_{o} dx_{il1} + d_{o} dx_{ir1} + dx_{il1} z - dx_{ir1} z}, \\  \\Delta_{z} : \\frac{- d_{o}^{2} dx_{il1} + d_{o}^{2} dx_{ir1} + 2 d_{o} dx_{il1} z - 2 d_{o} dx_{ir1} z - dx_{il1} z^{2} + dx_{ir1} z^{2}}{Mn S d_{o} - d_{o} dx_{il1} + d_{o} dx_{ir1} + dx_{il1} z - dx_{ir1} z}\\right\\}\n",
    "$$\n",
    "\n",
    "$$\n",
    "\\Delta_{y}: \\frac{\\Delta_{z} Mn d_{o} y - \\Delta_{z} d_{o} dx_{il2} + \\Delta_{z} dx_{il2} z + d_{o}^{2} dx_{il2} - 2 d_{o} dx_{il2} z + dx_{il2} z^{2}}{2 \\left(- Mn d_{o}^{2} + Mn d_{o} z\\right)} + \\frac{\\Delta_{z} Mn d_{o} y - \\Delta_{z} d_{o} dx_{ir2} + \\Delta_{z} dx_{ir2} z + d_{o}^{2} dx_{ir2} - 2 d_{o} dx_{ir2} z + dx_{ir2} z^{2}}{2 \\left(- Mn d_{o}^{2} + Mn d_{o} z\\right)}\n",
    "$$"
   ]
  }
 ],
 "metadata": {
  "kernelspec": {
   "display_name": "Python 3",
   "language": "python",
   "name": "python3"
  },
  "language_info": {
   "codemirror_mode": {
    "name": "ipython",
    "version": 3
   },
   "file_extension": ".py",
   "mimetype": "text/x-python",
   "name": "python",
   "nbconvert_exporter": "python",
   "pygments_lexer": "ipython3",
   "version": "3.13.1"
  }
 },
 "nbformat": 4,
 "nbformat_minor": 5
}
